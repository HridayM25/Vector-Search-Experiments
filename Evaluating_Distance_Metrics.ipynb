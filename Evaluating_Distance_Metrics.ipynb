{
  "nbformat": 4,
  "nbformat_minor": 0,
  "metadata": {
    "colab": {
      "provenance": []
    },
    "kernelspec": {
      "name": "python3",
      "display_name": "Python 3"
    },
    "language_info": {
      "name": "python"
    }
  },
  "cells": [
    {
      "cell_type": "code",
      "execution_count": null,
      "metadata": {
        "id": "naMVxKG8vF2h"
      },
      "outputs": [],
      "source": [
        "import numpy as np\n",
        "import pandas as pd"
      ]
    },
    {
      "cell_type": "code",
      "source": [
        "def minkowski_distance(col1, col2, p):\n",
        "    return (((abs(col1-col2))**p).sum())**(1/p)"
      ],
      "metadata": {
        "id": "p9LiYKZ8vI_h"
      },
      "execution_count": null,
      "outputs": []
    },
    {
      "cell_type": "code",
      "source": [
        "df=pd.read_csv(\"/content/Data.csv\")"
      ],
      "metadata": {
        "id": "ETMwS68Ov1iO"
      },
      "execution_count": null,
      "outputs": []
    },
    {
      "cell_type": "code",
      "source": [
        "df"
      ],
      "metadata": {
        "colab": {
          "base_uri": "https://localhost:8080/",
          "height": 423
        },
        "id": "r5Vs4LY6fpo0",
        "outputId": "48d7cecd-2528-44de-aedb-f6866cf3cedb"
      },
      "execution_count": null,
      "outputs": [
        {
          "output_type": "execute_result",
          "data": {
            "text/plain": [
              "      Serial                                               Sen1  \\\n",
              "0          2  A group of children is playing in the house an...   \n",
              "1          3  The young boys are playing outdoors and the ma...   \n",
              "2          5  The kids are playing outdoors near a man with ...   \n",
              "3          9  The young boys are playing outdoors and the ma...   \n",
              "4         12                              Two dogs are fighting   \n",
              "...      ...                                                ...   \n",
              "1270    3516                             The man is not dancing   \n",
              "1271    3517                          The man is wildly dancing   \n",
              "1272    3528            The person is not writing with a pencil   \n",
              "1273    3529            The writing is about a person penciling   \n",
              "1274    3530                The person is writing with a pencil   \n",
              "\n",
              "                                                   Sen2  Score           Type  \n",
              "0     A group of kids is playing in a yard and an ol...    3.2        NEUTRAL  \n",
              "1     The kids are playing outdoors near a man with ...    4.7     ENTAILMENT  \n",
              "2     A group of kids is playing in a yard and an ol...    3.4        NEUTRAL  \n",
              "3     A group of kids is playing in a yard and an ol...    3.7        NEUTRAL  \n",
              "4                    Two dogs are wrestling and hugging    4.0        NEUTRAL  \n",
              "...                                                 ...    ...            ...  \n",
              "1270                                 The man is dancing    3.9  CONTRADICTION  \n",
              "1271                                 A woman is dancing    3.0        NEUTRAL  \n",
              "1272                                A person is writing    3.4        NEUTRAL  \n",
              "1273                                A person is writing    2.9        NEUTRAL  \n",
              "1274                              The person is writing    4.8     ENTAILMENT  \n",
              "\n",
              "[1275 rows x 5 columns]"
            ],
            "text/html": [
              "\n",
              "  <div id=\"df-a41dc5a5-6037-420b-8281-c4c48d802a8f\">\n",
              "    <div class=\"colab-df-container\">\n",
              "      <div>\n",
              "<style scoped>\n",
              "    .dataframe tbody tr th:only-of-type {\n",
              "        vertical-align: middle;\n",
              "    }\n",
              "\n",
              "    .dataframe tbody tr th {\n",
              "        vertical-align: top;\n",
              "    }\n",
              "\n",
              "    .dataframe thead th {\n",
              "        text-align: right;\n",
              "    }\n",
              "</style>\n",
              "<table border=\"1\" class=\"dataframe\">\n",
              "  <thead>\n",
              "    <tr style=\"text-align: right;\">\n",
              "      <th></th>\n",
              "      <th>Serial</th>\n",
              "      <th>Sen1</th>\n",
              "      <th>Sen2</th>\n",
              "      <th>Score</th>\n",
              "      <th>Type</th>\n",
              "    </tr>\n",
              "  </thead>\n",
              "  <tbody>\n",
              "    <tr>\n",
              "      <th>0</th>\n",
              "      <td>2</td>\n",
              "      <td>A group of children is playing in the house an...</td>\n",
              "      <td>A group of kids is playing in a yard and an ol...</td>\n",
              "      <td>3.2</td>\n",
              "      <td>NEUTRAL</td>\n",
              "    </tr>\n",
              "    <tr>\n",
              "      <th>1</th>\n",
              "      <td>3</td>\n",
              "      <td>The young boys are playing outdoors and the ma...</td>\n",
              "      <td>The kids are playing outdoors near a man with ...</td>\n",
              "      <td>4.7</td>\n",
              "      <td>ENTAILMENT</td>\n",
              "    </tr>\n",
              "    <tr>\n",
              "      <th>2</th>\n",
              "      <td>5</td>\n",
              "      <td>The kids are playing outdoors near a man with ...</td>\n",
              "      <td>A group of kids is playing in a yard and an ol...</td>\n",
              "      <td>3.4</td>\n",
              "      <td>NEUTRAL</td>\n",
              "    </tr>\n",
              "    <tr>\n",
              "      <th>3</th>\n",
              "      <td>9</td>\n",
              "      <td>The young boys are playing outdoors and the ma...</td>\n",
              "      <td>A group of kids is playing in a yard and an ol...</td>\n",
              "      <td>3.7</td>\n",
              "      <td>NEUTRAL</td>\n",
              "    </tr>\n",
              "    <tr>\n",
              "      <th>4</th>\n",
              "      <td>12</td>\n",
              "      <td>Two dogs are fighting</td>\n",
              "      <td>Two dogs are wrestling and hugging</td>\n",
              "      <td>4.0</td>\n",
              "      <td>NEUTRAL</td>\n",
              "    </tr>\n",
              "    <tr>\n",
              "      <th>...</th>\n",
              "      <td>...</td>\n",
              "      <td>...</td>\n",
              "      <td>...</td>\n",
              "      <td>...</td>\n",
              "      <td>...</td>\n",
              "    </tr>\n",
              "    <tr>\n",
              "      <th>1270</th>\n",
              "      <td>3516</td>\n",
              "      <td>The man is not dancing</td>\n",
              "      <td>The man is dancing</td>\n",
              "      <td>3.9</td>\n",
              "      <td>CONTRADICTION</td>\n",
              "    </tr>\n",
              "    <tr>\n",
              "      <th>1271</th>\n",
              "      <td>3517</td>\n",
              "      <td>The man is wildly dancing</td>\n",
              "      <td>A woman is dancing</td>\n",
              "      <td>3.0</td>\n",
              "      <td>NEUTRAL</td>\n",
              "    </tr>\n",
              "    <tr>\n",
              "      <th>1272</th>\n",
              "      <td>3528</td>\n",
              "      <td>The person is not writing with a pencil</td>\n",
              "      <td>A person is writing</td>\n",
              "      <td>3.4</td>\n",
              "      <td>NEUTRAL</td>\n",
              "    </tr>\n",
              "    <tr>\n",
              "      <th>1273</th>\n",
              "      <td>3529</td>\n",
              "      <td>The writing is about a person penciling</td>\n",
              "      <td>A person is writing</td>\n",
              "      <td>2.9</td>\n",
              "      <td>NEUTRAL</td>\n",
              "    </tr>\n",
              "    <tr>\n",
              "      <th>1274</th>\n",
              "      <td>3530</td>\n",
              "      <td>The person is writing with a pencil</td>\n",
              "      <td>The person is writing</td>\n",
              "      <td>4.8</td>\n",
              "      <td>ENTAILMENT</td>\n",
              "    </tr>\n",
              "  </tbody>\n",
              "</table>\n",
              "<p>1275 rows × 5 columns</p>\n",
              "</div>\n",
              "      <button class=\"colab-df-convert\" onclick=\"convertToInteractive('df-a41dc5a5-6037-420b-8281-c4c48d802a8f')\"\n",
              "              title=\"Convert this dataframe to an interactive table.\"\n",
              "              style=\"display:none;\">\n",
              "        \n",
              "  <svg xmlns=\"http://www.w3.org/2000/svg\" height=\"24px\"viewBox=\"0 0 24 24\"\n",
              "       width=\"24px\">\n",
              "    <path d=\"M0 0h24v24H0V0z\" fill=\"none\"/>\n",
              "    <path d=\"M18.56 5.44l.94 2.06.94-2.06 2.06-.94-2.06-.94-.94-2.06-.94 2.06-2.06.94zm-11 1L8.5 8.5l.94-2.06 2.06-.94-2.06-.94L8.5 2.5l-.94 2.06-2.06.94zm10 10l.94 2.06.94-2.06 2.06-.94-2.06-.94-.94-2.06-.94 2.06-2.06.94z\"/><path d=\"M17.41 7.96l-1.37-1.37c-.4-.4-.92-.59-1.43-.59-.52 0-1.04.2-1.43.59L10.3 9.45l-7.72 7.72c-.78.78-.78 2.05 0 2.83L4 21.41c.39.39.9.59 1.41.59.51 0 1.02-.2 1.41-.59l7.78-7.78 2.81-2.81c.8-.78.8-2.07 0-2.86zM5.41 20L4 18.59l7.72-7.72 1.47 1.35L5.41 20z\"/>\n",
              "  </svg>\n",
              "      </button>\n",
              "      \n",
              "  <style>\n",
              "    .colab-df-container {\n",
              "      display:flex;\n",
              "      flex-wrap:wrap;\n",
              "      gap: 12px;\n",
              "    }\n",
              "\n",
              "    .colab-df-convert {\n",
              "      background-color: #E8F0FE;\n",
              "      border: none;\n",
              "      border-radius: 50%;\n",
              "      cursor: pointer;\n",
              "      display: none;\n",
              "      fill: #1967D2;\n",
              "      height: 32px;\n",
              "      padding: 0 0 0 0;\n",
              "      width: 32px;\n",
              "    }\n",
              "\n",
              "    .colab-df-convert:hover {\n",
              "      background-color: #E2EBFA;\n",
              "      box-shadow: 0px 1px 2px rgba(60, 64, 67, 0.3), 0px 1px 3px 1px rgba(60, 64, 67, 0.15);\n",
              "      fill: #174EA6;\n",
              "    }\n",
              "\n",
              "    [theme=dark] .colab-df-convert {\n",
              "      background-color: #3B4455;\n",
              "      fill: #D2E3FC;\n",
              "    }\n",
              "\n",
              "    [theme=dark] .colab-df-convert:hover {\n",
              "      background-color: #434B5C;\n",
              "      box-shadow: 0px 1px 3px 1px rgba(0, 0, 0, 0.15);\n",
              "      filter: drop-shadow(0px 1px 2px rgba(0, 0, 0, 0.3));\n",
              "      fill: #FFFFFF;\n",
              "    }\n",
              "  </style>\n",
              "\n",
              "      <script>\n",
              "        const buttonEl =\n",
              "          document.querySelector('#df-a41dc5a5-6037-420b-8281-c4c48d802a8f button.colab-df-convert');\n",
              "        buttonEl.style.display =\n",
              "          google.colab.kernel.accessAllowed ? 'block' : 'none';\n",
              "\n",
              "        async function convertToInteractive(key) {\n",
              "          const element = document.querySelector('#df-a41dc5a5-6037-420b-8281-c4c48d802a8f');\n",
              "          const dataTable =\n",
              "            await google.colab.kernel.invokeFunction('convertToInteractive',\n",
              "                                                     [key], {});\n",
              "          if (!dataTable) return;\n",
              "\n",
              "          const docLinkHtml = 'Like what you see? Visit the ' +\n",
              "            '<a target=\"_blank\" href=https://colab.research.google.com/notebooks/data_table.ipynb>data table notebook</a>'\n",
              "            + ' to learn more about interactive tables.';\n",
              "          element.innerHTML = '';\n",
              "          dataTable['output_type'] = 'display_data';\n",
              "          await google.colab.output.renderOutput(dataTable, element);\n",
              "          const docLink = document.createElement('div');\n",
              "          docLink.innerHTML = docLinkHtml;\n",
              "          element.appendChild(docLink);\n",
              "        }\n",
              "      </script>\n",
              "    </div>\n",
              "  </div>\n",
              "  "
            ]
          },
          "metadata": {},
          "execution_count": 12
        }
      ]
    },
    {
      "cell_type": "code",
      "source": [
        "df['Score'].mask(df['Type'] == 'CONTRADICTION', 5-df['Score'], inplace=True)"
      ],
      "metadata": {
        "id": "Szip2KkVfPPP"
      },
      "execution_count": null,
      "outputs": []
    },
    {
      "cell_type": "code",
      "source": [
        "from sentence_transformers import SentenceTransformer\n",
        "model=SentenceTransformer('paraphrase-MiniLM-L6-v2')"
      ],
      "metadata": {
        "id": "YMt9Jak_hkD8"
      },
      "execution_count": null,
      "outputs": []
    },
    {
      "cell_type": "code",
      "source": [
        "df[\"V1\"]=0"
      ],
      "metadata": {
        "id": "MCTu8oksl7P0"
      },
      "execution_count": null,
      "outputs": []
    },
    {
      "cell_type": "code",
      "source": [
        "df[\"V2\"]=0"
      ],
      "metadata": {
        "id": "myugQgOemyU7"
      },
      "execution_count": null,
      "outputs": []
    },
    {
      "cell_type": "code",
      "source": [
        "for i in range(len(df)):\n",
        "  df[\"V1\"][i]=[model.encode(df[\"Sen1\"][i])]"
      ],
      "metadata": {
        "colab": {
          "base_uri": "https://localhost:8080/"
        },
        "id": "JdpBI7EGj2xo",
        "outputId": "bf333430-a98d-4d71-8b03-55478e91c7aa"
      },
      "execution_count": null,
      "outputs": [
        {
          "output_type": "stream",
          "name": "stderr",
          "text": [
            "<ipython-input-38-af504602345f>:2: SettingWithCopyWarning: \n",
            "A value is trying to be set on a copy of a slice from a DataFrame\n",
            "\n",
            "See the caveats in the documentation: https://pandas.pydata.org/pandas-docs/stable/user_guide/indexing.html#returning-a-view-versus-a-copy\n",
            "  df[\"V1\"][i]=[model.encode(df[\"Sen1\"][i])]\n"
          ]
        }
      ]
    },
    {
      "cell_type": "code",
      "source": [
        "for i in range(len(df)):\n",
        "  df[\"V2\"][i]=[model.encode(df[\"Sen2\"][i])]"
      ],
      "metadata": {
        "colab": {
          "base_uri": "https://localhost:8080/"
        },
        "id": "7n5vOISSm6hM",
        "outputId": "c4020acc-5038-4fe4-e0a8-8b654efadd0d"
      },
      "execution_count": null,
      "outputs": [
        {
          "output_type": "stream",
          "name": "stderr",
          "text": [
            "<ipython-input-41-a670abdcde5f>:2: SettingWithCopyWarning: \n",
            "A value is trying to be set on a copy of a slice from a DataFrame\n",
            "\n",
            "See the caveats in the documentation: https://pandas.pydata.org/pandas-docs/stable/user_guide/indexing.html#returning-a-view-versus-a-copy\n",
            "  df[\"V2\"][i]=[model.encode(df[\"Sen2\"][i])]\n"
          ]
        }
      ]
    },
    {
      "cell_type": "code",
      "source": [
        "df['Man']=0\n",
        "df['Euc']=0\n",
        "df[\"Fra\"]=0"
      ],
      "metadata": {
        "id": "QrrIWOzsmCPA"
      },
      "execution_count": null,
      "outputs": []
    },
    {
      "cell_type": "code",
      "source": [
        "for i in range(len(df)):\n",
        "  df['Man'][i]=minkowski_distance(df['V1'][i][0], df['V2'][i][0], 1)"
      ],
      "metadata": {
        "colab": {
          "base_uri": "https://localhost:8080/"
        },
        "id": "NuCSSIbEplOW",
        "outputId": "15e642b3-f9f1-46e5-aacd-2a9d95c9a485"
      },
      "execution_count": null,
      "outputs": [
        {
          "output_type": "stream",
          "name": "stderr",
          "text": [
            "<ipython-input-51-9ba5ce598e05>:2: SettingWithCopyWarning: \n",
            "A value is trying to be set on a copy of a slice from a DataFrame\n",
            "\n",
            "See the caveats in the documentation: https://pandas.pydata.org/pandas-docs/stable/user_guide/indexing.html#returning-a-view-versus-a-copy\n",
            "  df['Man'][i]=minkowski_distance(df['V1'][i][0], df['V2'][i][0], 1)\n"
          ]
        }
      ]
    },
    {
      "cell_type": "code",
      "source": [
        "for i in range(len(df)):\n",
        "  df['Euc'][i]=minkowski_distance(df['V1'][i][0], df['V2'][i][0], 2)\n",
        "for i in range(len(df)):\n",
        "  df['Fra'][i]=minkowski_distance(df['V1'][i][0], df['V2'][i][0], 0.3)"
      ],
      "metadata": {
        "colab": {
          "base_uri": "https://localhost:8080/"
        },
        "id": "tnJGlXYFqtM6",
        "outputId": "90a545e2-5104-4336-a76d-8bfea3e703ed"
      },
      "execution_count": null,
      "outputs": [
        {
          "output_type": "stream",
          "name": "stderr",
          "text": [
            "<ipython-input-58-6d2a58dd3bfe>:2: SettingWithCopyWarning: \n",
            "A value is trying to be set on a copy of a slice from a DataFrame\n",
            "\n",
            "See the caveats in the documentation: https://pandas.pydata.org/pandas-docs/stable/user_guide/indexing.html#returning-a-view-versus-a-copy\n",
            "  df['Euc'][i]=minkowski_distance(df['V1'][i][0], df['V2'][i][0], 2)\n",
            "<ipython-input-58-6d2a58dd3bfe>:4: SettingWithCopyWarning: \n",
            "A value is trying to be set on a copy of a slice from a DataFrame\n",
            "\n",
            "See the caveats in the documentation: https://pandas.pydata.org/pandas-docs/stable/user_guide/indexing.html#returning-a-view-versus-a-copy\n",
            "  df['Fra'][i]=minkowski_distance(df['V1'][i][0], df['V2'][i][0], 0.3)\n"
          ]
        }
      ]
    },
    {
      "cell_type": "code",
      "source": [
        "def rescale(col):\n",
        "  min_value = df[col].min()\n",
        "  max_value = df[col].max()\n",
        "  df[col] = 1 + ((df[col] - min_value) / (max_value - min_value)) * 4"
      ],
      "metadata": {
        "id": "Omu4GxKIraj6"
      },
      "execution_count": null,
      "outputs": []
    },
    {
      "cell_type": "code",
      "source": [
        "rescale(\"Man\")\n",
        "rescale(\"Euc\")\n",
        "rescale(\"Fra\")"
      ],
      "metadata": {
        "id": "azOvpNQTsijp"
      },
      "execution_count": null,
      "outputs": []
    },
    {
      "cell_type": "code",
      "source": [
        "df"
      ],
      "metadata": {
        "colab": {
          "base_uri": "https://localhost:8080/",
          "height": 849
        },
        "id": "6aIW6ifQvAae",
        "outputId": "f4ba2bee-0170-411a-bb8f-f219bef7db1f"
      },
      "execution_count": null,
      "outputs": [
        {
          "output_type": "execute_result",
          "data": {
            "text/plain": [
              "      Serial                                               Sen1  \\\n",
              "0          2  A group of children is playing in the house an...   \n",
              "1          3  The young boys are playing outdoors and the ma...   \n",
              "2          5  The kids are playing outdoors near a man with ...   \n",
              "3          9  The young boys are playing outdoors and the ma...   \n",
              "4         12                              Two dogs are fighting   \n",
              "...      ...                                                ...   \n",
              "1270    3516                             The man is not dancing   \n",
              "1271    3517                          The man is wildly dancing   \n",
              "1272    3528            The person is not writing with a pencil   \n",
              "1273    3529            The writing is about a person penciling   \n",
              "1274    3530                The person is writing with a pencil   \n",
              "\n",
              "                                                   Sen2  Score           Type  \\\n",
              "0     A group of kids is playing in a yard and an ol...    3.2        NEUTRAL   \n",
              "1     The kids are playing outdoors near a man with ...    4.7     ENTAILMENT   \n",
              "2     A group of kids is playing in a yard and an ol...    3.4        NEUTRAL   \n",
              "3     A group of kids is playing in a yard and an ol...    3.7        NEUTRAL   \n",
              "4                    Two dogs are wrestling and hugging    4.0        NEUTRAL   \n",
              "...                                                 ...    ...            ...   \n",
              "1270                                 The man is dancing    1.1  CONTRADICTION   \n",
              "1271                                 A woman is dancing    3.0        NEUTRAL   \n",
              "1272                                A person is writing    3.4        NEUTRAL   \n",
              "1273                                A person is writing    2.9        NEUTRAL   \n",
              "1274                              The person is writing    4.8     ENTAILMENT   \n",
              "\n",
              "                                                     V1  \\\n",
              "0     [[0.47545886, -0.037648376, 0.08927051, -0.417...   \n",
              "1     [[-0.13462979, 0.49890336, -0.021877835, -0.85...   \n",
              "2     [[0.095526055, 0.49726602, 0.02861956, -0.6162...   \n",
              "3     [[-0.13462979, 0.49890336, -0.021877835, -0.85...   \n",
              "4     [[-0.5750578, -0.013041396, -0.101274185, 0.90...   \n",
              "...                                                 ...   \n",
              "1270  [[-0.030196952, -0.07901152, 0.11262397, -0.53...   \n",
              "1271  [[0.12587568, 0.15739442, -0.25980294, -0.4809...   \n",
              "1272  [[-0.44194144, -0.33895132, -0.33055562, -0.27...   \n",
              "1273  [[-0.7019796, -0.121145844, -0.5826938, -0.034...   \n",
              "1274  [[-0.39537477, -0.41039667, -0.6747607, -0.042...   \n",
              "\n",
              "                                                     V2       Man       Euc  \\\n",
              "0     [[0.49139023, 0.28649983, 0.16801298, -0.50579...  2.186306  2.218112   \n",
              "1     [[0.095526055, 0.49726602, 0.02861956, -0.6162...  2.041683  2.061883   \n",
              "2     [[0.49139023, 0.28649983, 0.16801298, -0.50579...  2.073540  2.127580   \n",
              "3     [[0.49139023, 0.28649983, 0.16801298, -0.50579...  2.569359  2.594489   \n",
              "4     [[-0.48545125, -0.22018507, 0.32654387, 0.5700...  2.810811  2.891492   \n",
              "...                                                 ...       ...       ...   \n",
              "1270  [[-0.056503493, -0.25535432, -0.19698422, -0.4...  3.123201  3.177171   \n",
              "1271  [[0.099282235, -0.69487065, 0.31376746, 0.0375...  3.526208  3.526939   \n",
              "1272  [[-0.5747519, -0.08423195, -0.31955644, 0.3946...  3.121074  3.140613   \n",
              "1273  [[-0.5747519, -0.08423195, -0.31955644, 0.3946...  2.567321  2.628725   \n",
              "1274  [[-0.48351395, 0.033983838, -0.33277023, 0.371...  2.472776  2.501520   \n",
              "\n",
              "           Fra  \n",
              "0     2.190842  \n",
              "1     2.008938  \n",
              "2     2.029087  \n",
              "3     2.530572  \n",
              "4     2.736415  \n",
              "...        ...  \n",
              "1270  3.072332  \n",
              "1271  3.521478  \n",
              "1272  3.110786  \n",
              "1273  2.524810  \n",
              "1274  2.479685  \n",
              "\n",
              "[1275 rows x 10 columns]"
            ],
            "text/html": [
              "\n",
              "  <div id=\"df-8760d5c5-4989-4cf4-873e-96ca4c689d1a\">\n",
              "    <div class=\"colab-df-container\">\n",
              "      <div>\n",
              "<style scoped>\n",
              "    .dataframe tbody tr th:only-of-type {\n",
              "        vertical-align: middle;\n",
              "    }\n",
              "\n",
              "    .dataframe tbody tr th {\n",
              "        vertical-align: top;\n",
              "    }\n",
              "\n",
              "    .dataframe thead th {\n",
              "        text-align: right;\n",
              "    }\n",
              "</style>\n",
              "<table border=\"1\" class=\"dataframe\">\n",
              "  <thead>\n",
              "    <tr style=\"text-align: right;\">\n",
              "      <th></th>\n",
              "      <th>Serial</th>\n",
              "      <th>Sen1</th>\n",
              "      <th>Sen2</th>\n",
              "      <th>Score</th>\n",
              "      <th>Type</th>\n",
              "      <th>V1</th>\n",
              "      <th>V2</th>\n",
              "      <th>Man</th>\n",
              "      <th>Euc</th>\n",
              "      <th>Fra</th>\n",
              "    </tr>\n",
              "  </thead>\n",
              "  <tbody>\n",
              "    <tr>\n",
              "      <th>0</th>\n",
              "      <td>2</td>\n",
              "      <td>A group of children is playing in the house an...</td>\n",
              "      <td>A group of kids is playing in a yard and an ol...</td>\n",
              "      <td>3.2</td>\n",
              "      <td>NEUTRAL</td>\n",
              "      <td>[[0.47545886, -0.037648376, 0.08927051, -0.417...</td>\n",
              "      <td>[[0.49139023, 0.28649983, 0.16801298, -0.50579...</td>\n",
              "      <td>2.186306</td>\n",
              "      <td>2.218112</td>\n",
              "      <td>2.190842</td>\n",
              "    </tr>\n",
              "    <tr>\n",
              "      <th>1</th>\n",
              "      <td>3</td>\n",
              "      <td>The young boys are playing outdoors and the ma...</td>\n",
              "      <td>The kids are playing outdoors near a man with ...</td>\n",
              "      <td>4.7</td>\n",
              "      <td>ENTAILMENT</td>\n",
              "      <td>[[-0.13462979, 0.49890336, -0.021877835, -0.85...</td>\n",
              "      <td>[[0.095526055, 0.49726602, 0.02861956, -0.6162...</td>\n",
              "      <td>2.041683</td>\n",
              "      <td>2.061883</td>\n",
              "      <td>2.008938</td>\n",
              "    </tr>\n",
              "    <tr>\n",
              "      <th>2</th>\n",
              "      <td>5</td>\n",
              "      <td>The kids are playing outdoors near a man with ...</td>\n",
              "      <td>A group of kids is playing in a yard and an ol...</td>\n",
              "      <td>3.4</td>\n",
              "      <td>NEUTRAL</td>\n",
              "      <td>[[0.095526055, 0.49726602, 0.02861956, -0.6162...</td>\n",
              "      <td>[[0.49139023, 0.28649983, 0.16801298, -0.50579...</td>\n",
              "      <td>2.073540</td>\n",
              "      <td>2.127580</td>\n",
              "      <td>2.029087</td>\n",
              "    </tr>\n",
              "    <tr>\n",
              "      <th>3</th>\n",
              "      <td>9</td>\n",
              "      <td>The young boys are playing outdoors and the ma...</td>\n",
              "      <td>A group of kids is playing in a yard and an ol...</td>\n",
              "      <td>3.7</td>\n",
              "      <td>NEUTRAL</td>\n",
              "      <td>[[-0.13462979, 0.49890336, -0.021877835, -0.85...</td>\n",
              "      <td>[[0.49139023, 0.28649983, 0.16801298, -0.50579...</td>\n",
              "      <td>2.569359</td>\n",
              "      <td>2.594489</td>\n",
              "      <td>2.530572</td>\n",
              "    </tr>\n",
              "    <tr>\n",
              "      <th>4</th>\n",
              "      <td>12</td>\n",
              "      <td>Two dogs are fighting</td>\n",
              "      <td>Two dogs are wrestling and hugging</td>\n",
              "      <td>4.0</td>\n",
              "      <td>NEUTRAL</td>\n",
              "      <td>[[-0.5750578, -0.013041396, -0.101274185, 0.90...</td>\n",
              "      <td>[[-0.48545125, -0.22018507, 0.32654387, 0.5700...</td>\n",
              "      <td>2.810811</td>\n",
              "      <td>2.891492</td>\n",
              "      <td>2.736415</td>\n",
              "    </tr>\n",
              "    <tr>\n",
              "      <th>...</th>\n",
              "      <td>...</td>\n",
              "      <td>...</td>\n",
              "      <td>...</td>\n",
              "      <td>...</td>\n",
              "      <td>...</td>\n",
              "      <td>...</td>\n",
              "      <td>...</td>\n",
              "      <td>...</td>\n",
              "      <td>...</td>\n",
              "      <td>...</td>\n",
              "    </tr>\n",
              "    <tr>\n",
              "      <th>1270</th>\n",
              "      <td>3516</td>\n",
              "      <td>The man is not dancing</td>\n",
              "      <td>The man is dancing</td>\n",
              "      <td>1.1</td>\n",
              "      <td>CONTRADICTION</td>\n",
              "      <td>[[-0.030196952, -0.07901152, 0.11262397, -0.53...</td>\n",
              "      <td>[[-0.056503493, -0.25535432, -0.19698422, -0.4...</td>\n",
              "      <td>3.123201</td>\n",
              "      <td>3.177171</td>\n",
              "      <td>3.072332</td>\n",
              "    </tr>\n",
              "    <tr>\n",
              "      <th>1271</th>\n",
              "      <td>3517</td>\n",
              "      <td>The man is wildly dancing</td>\n",
              "      <td>A woman is dancing</td>\n",
              "      <td>3.0</td>\n",
              "      <td>NEUTRAL</td>\n",
              "      <td>[[0.12587568, 0.15739442, -0.25980294, -0.4809...</td>\n",
              "      <td>[[0.099282235, -0.69487065, 0.31376746, 0.0375...</td>\n",
              "      <td>3.526208</td>\n",
              "      <td>3.526939</td>\n",
              "      <td>3.521478</td>\n",
              "    </tr>\n",
              "    <tr>\n",
              "      <th>1272</th>\n",
              "      <td>3528</td>\n",
              "      <td>The person is not writing with a pencil</td>\n",
              "      <td>A person is writing</td>\n",
              "      <td>3.4</td>\n",
              "      <td>NEUTRAL</td>\n",
              "      <td>[[-0.44194144, -0.33895132, -0.33055562, -0.27...</td>\n",
              "      <td>[[-0.5747519, -0.08423195, -0.31955644, 0.3946...</td>\n",
              "      <td>3.121074</td>\n",
              "      <td>3.140613</td>\n",
              "      <td>3.110786</td>\n",
              "    </tr>\n",
              "    <tr>\n",
              "      <th>1273</th>\n",
              "      <td>3529</td>\n",
              "      <td>The writing is about a person penciling</td>\n",
              "      <td>A person is writing</td>\n",
              "      <td>2.9</td>\n",
              "      <td>NEUTRAL</td>\n",
              "      <td>[[-0.7019796, -0.121145844, -0.5826938, -0.034...</td>\n",
              "      <td>[[-0.5747519, -0.08423195, -0.31955644, 0.3946...</td>\n",
              "      <td>2.567321</td>\n",
              "      <td>2.628725</td>\n",
              "      <td>2.524810</td>\n",
              "    </tr>\n",
              "    <tr>\n",
              "      <th>1274</th>\n",
              "      <td>3530</td>\n",
              "      <td>The person is writing with a pencil</td>\n",
              "      <td>The person is writing</td>\n",
              "      <td>4.8</td>\n",
              "      <td>ENTAILMENT</td>\n",
              "      <td>[[-0.39537477, -0.41039667, -0.6747607, -0.042...</td>\n",
              "      <td>[[-0.48351395, 0.033983838, -0.33277023, 0.371...</td>\n",
              "      <td>2.472776</td>\n",
              "      <td>2.501520</td>\n",
              "      <td>2.479685</td>\n",
              "    </tr>\n",
              "  </tbody>\n",
              "</table>\n",
              "<p>1275 rows × 10 columns</p>\n",
              "</div>\n",
              "      <button class=\"colab-df-convert\" onclick=\"convertToInteractive('df-8760d5c5-4989-4cf4-873e-96ca4c689d1a')\"\n",
              "              title=\"Convert this dataframe to an interactive table.\"\n",
              "              style=\"display:none;\">\n",
              "        \n",
              "  <svg xmlns=\"http://www.w3.org/2000/svg\" height=\"24px\"viewBox=\"0 0 24 24\"\n",
              "       width=\"24px\">\n",
              "    <path d=\"M0 0h24v24H0V0z\" fill=\"none\"/>\n",
              "    <path d=\"M18.56 5.44l.94 2.06.94-2.06 2.06-.94-2.06-.94-.94-2.06-.94 2.06-2.06.94zm-11 1L8.5 8.5l.94-2.06 2.06-.94-2.06-.94L8.5 2.5l-.94 2.06-2.06.94zm10 10l.94 2.06.94-2.06 2.06-.94-2.06-.94-.94-2.06-.94 2.06-2.06.94z\"/><path d=\"M17.41 7.96l-1.37-1.37c-.4-.4-.92-.59-1.43-.59-.52 0-1.04.2-1.43.59L10.3 9.45l-7.72 7.72c-.78.78-.78 2.05 0 2.83L4 21.41c.39.39.9.59 1.41.59.51 0 1.02-.2 1.41-.59l7.78-7.78 2.81-2.81c.8-.78.8-2.07 0-2.86zM5.41 20L4 18.59l7.72-7.72 1.47 1.35L5.41 20z\"/>\n",
              "  </svg>\n",
              "      </button>\n",
              "      \n",
              "  <style>\n",
              "    .colab-df-container {\n",
              "      display:flex;\n",
              "      flex-wrap:wrap;\n",
              "      gap: 12px;\n",
              "    }\n",
              "\n",
              "    .colab-df-convert {\n",
              "      background-color: #E8F0FE;\n",
              "      border: none;\n",
              "      border-radius: 50%;\n",
              "      cursor: pointer;\n",
              "      display: none;\n",
              "      fill: #1967D2;\n",
              "      height: 32px;\n",
              "      padding: 0 0 0 0;\n",
              "      width: 32px;\n",
              "    }\n",
              "\n",
              "    .colab-df-convert:hover {\n",
              "      background-color: #E2EBFA;\n",
              "      box-shadow: 0px 1px 2px rgba(60, 64, 67, 0.3), 0px 1px 3px 1px rgba(60, 64, 67, 0.15);\n",
              "      fill: #174EA6;\n",
              "    }\n",
              "\n",
              "    [theme=dark] .colab-df-convert {\n",
              "      background-color: #3B4455;\n",
              "      fill: #D2E3FC;\n",
              "    }\n",
              "\n",
              "    [theme=dark] .colab-df-convert:hover {\n",
              "      background-color: #434B5C;\n",
              "      box-shadow: 0px 1px 3px 1px rgba(0, 0, 0, 0.15);\n",
              "      filter: drop-shadow(0px 1px 2px rgba(0, 0, 0, 0.3));\n",
              "      fill: #FFFFFF;\n",
              "    }\n",
              "  </style>\n",
              "\n",
              "      <script>\n",
              "        const buttonEl =\n",
              "          document.querySelector('#df-8760d5c5-4989-4cf4-873e-96ca4c689d1a button.colab-df-convert');\n",
              "        buttonEl.style.display =\n",
              "          google.colab.kernel.accessAllowed ? 'block' : 'none';\n",
              "\n",
              "        async function convertToInteractive(key) {\n",
              "          const element = document.querySelector('#df-8760d5c5-4989-4cf4-873e-96ca4c689d1a');\n",
              "          const dataTable =\n",
              "            await google.colab.kernel.invokeFunction('convertToInteractive',\n",
              "                                                     [key], {});\n",
              "          if (!dataTable) return;\n",
              "\n",
              "          const docLinkHtml = 'Like what you see? Visit the ' +\n",
              "            '<a target=\"_blank\" href=https://colab.research.google.com/notebooks/data_table.ipynb>data table notebook</a>'\n",
              "            + ' to learn more about interactive tables.';\n",
              "          element.innerHTML = '';\n",
              "          dataTable['output_type'] = 'display_data';\n",
              "          await google.colab.output.renderOutput(dataTable, element);\n",
              "          const docLink = document.createElement('div');\n",
              "          docLink.innerHTML = docLinkHtml;\n",
              "          element.appendChild(docLink);\n",
              "        }\n",
              "      </script>\n",
              "    </div>\n",
              "  </div>\n",
              "  "
            ]
          },
          "metadata": {},
          "execution_count": 71
        }
      ]
    },
    {
      "cell_type": "code",
      "source": [
        "def loss(col):\n",
        "  return abs(df[\"Score\"]-df[col]).sum()/len(df)"
      ],
      "metadata": {
        "id": "yzBSutU5snCz"
      },
      "execution_count": null,
      "outputs": []
    },
    {
      "cell_type": "code",
      "source": [
        "loss(\"Man\")"
      ],
      "metadata": {
        "colab": {
          "base_uri": "https://localhost:8080/"
        },
        "id": "Ah5mP8EVsvDd",
        "outputId": "e579e129-61af-4c97-a7e9-aced813694bf"
      },
      "execution_count": null,
      "outputs": [
        {
          "output_type": "execute_result",
          "data": {
            "text/plain": [
              "1.5948092589433855"
            ]
          },
          "metadata": {},
          "execution_count": 68
        }
      ]
    },
    {
      "cell_type": "code",
      "source": [
        "loss(\"Euc\")"
      ],
      "metadata": {
        "colab": {
          "base_uri": "https://localhost:8080/"
        },
        "id": "wkkR15JbtIyZ",
        "outputId": "2bd7c409-3a1f-4426-942a-8bc5cad88c38"
      },
      "execution_count": null,
      "outputs": [
        {
          "output_type": "execute_result",
          "data": {
            "text/plain": [
              "1.5952337832536276"
            ]
          },
          "metadata": {},
          "execution_count": 69
        }
      ]
    },
    {
      "cell_type": "code",
      "source": [
        "loss(\"Fra\")"
      ],
      "metadata": {
        "colab": {
          "base_uri": "https://localhost:8080/"
        },
        "id": "6oJEkC70tOF-",
        "outputId": "97c47ad6-3d73-4804-dd23-490a299b8ebd"
      },
      "execution_count": null,
      "outputs": [
        {
          "output_type": "execute_result",
          "data": {
            "text/plain": [
              "1.5951396736361743"
            ]
          },
          "metadata": {},
          "execution_count": 70
        }
      ]
    }
  ]
}